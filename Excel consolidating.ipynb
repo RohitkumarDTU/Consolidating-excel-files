{
 "cells": [
  {
   "cell_type": "markdown",
   "id": "048d71d5",
   "metadata": {},
   "source": [
    "# Importing libraries"
   ]
  },
  {
   "cell_type": "code",
   "execution_count": 11,
   "id": "76c8a9e9",
   "metadata": {},
   "outputs": [],
   "source": [
    "import pandas as pd\n",
    "import os"
   ]
  },
  {
   "cell_type": "markdown",
   "id": "7d065b66",
   "metadata": {},
   "source": [
    "# creating variable for input and output variable"
   ]
  },
  {
   "cell_type": "code",
   "execution_count": 12,
   "id": "bd055d7a",
   "metadata": {},
   "outputs": [],
   "source": [
    "input_loc = \"E:/Excel/\"\n",
    "output_loc = \"C:/Users/Rohit Kumar/Downloads/output/\""
   ]
  },
  {
   "cell_type": "markdown",
   "id": "768b2558",
   "metadata": {},
   "source": [
    "## reading files and consolidate the files using for loop"
   ]
  },
  {
   "cell_type": "code",
   "execution_count": 13,
   "id": "ce5fe753",
   "metadata": {},
   "outputs": [
    {
     "data": {
      "text/plain": [
       "['00 ALL PACL_ OTHER .xlsx',\n",
       " '00 ALL SEIZED LAND DETAIL BY SELF _ OTHER .xlsx',\n",
       " '00 MASTER FILE(YEL_SOL, BLU_TRAN, PURPLE_DLT, GREEN_ OTHR.(16.04.2015 To 31.08.2015, BOX 49 D).xlsx',\n",
       " '00 MASTER FILE(YEL_SOL, BLU_TRAN, PURPLE_DLT, GREEN_ OTHR.(18.03.2014 To 15.04.2015, BOX 40 B).xlsx',\n",
       " '00_Case Status.xlsx',\n",
       " '01   DELHI CONSOLIDATION.xlsx',\n",
       " '01  CBI  17  A.xlsx',\n",
       " '01  CONSOLIDATION OF T NO 20 TOTAL.xlsx']"
      ]
     },
     "execution_count": 13,
     "metadata": {},
     "output_type": "execute_result"
    }
   ],
   "source": [
    "fileList = os.listdir(input_loc)\n",
    "fileList"
   ]
  },
  {
   "cell_type": "code",
   "execution_count": 14,
   "id": "dcee751f",
   "metadata": {},
   "outputs": [],
   "source": [
    "finalDf = pd.DataFrame()\n",
    "\n",
    "for files in fileList:\n",
    "    df = pd.read_excel(input_loc+files)\n",
    "    finalDf = finalDf.append(df)\n",
    "        \n",
    "finalDf.to_excel(output_loc+\"finalDf.xlsx\")"
   ]
  },
  {
   "cell_type": "code",
   "execution_count": null,
   "id": "fa40067b",
   "metadata": {},
   "outputs": [],
   "source": []
  },
  {
   "cell_type": "code",
   "execution_count": null,
   "id": "4f438cc3",
   "metadata": {},
   "outputs": [],
   "source": []
  },
  {
   "cell_type": "code",
   "execution_count": null,
   "id": "bb202ca9",
   "metadata": {},
   "outputs": [],
   "source": []
  }
 ],
 "metadata": {
  "kernelspec": {
   "display_name": "Python 3 (ipykernel)",
   "language": "python",
   "name": "python3"
  },
  "language_info": {
   "codemirror_mode": {
    "name": "ipython",
    "version": 3
   },
   "file_extension": ".py",
   "mimetype": "text/x-python",
   "name": "python",
   "nbconvert_exporter": "python",
   "pygments_lexer": "ipython3",
   "version": "3.9.7"
  }
 },
 "nbformat": 4,
 "nbformat_minor": 5
}
